{
 "cells": [
  {
   "cell_type": "code",
   "execution_count": 1,
   "metadata": {},
   "outputs": [
    {
     "name": "stderr",
     "output_type": "stream",
     "text": [
      "/home/dresden/miniconda3/envs/fidip/lib/python3.12/site-packages/torch/cuda/__init__.py:619: UserWarning: Can't initialize NVML\n",
      "  warnings.warn(\"Can't initialize NVML\")\n",
      "/home/dresden/miniconda3/envs/fidip/lib/python3.12/site-packages/torch/cuda/__init__.py:749: UserWarning: CUDA initialization: Unexpected error from cudaGetDeviceCount(). Did you run some cuda functions before calling NumCudaDevices() that might have already set an error? Error 804: forward compatibility was attempted on non supported HW (Triggered internally at /opt/conda/conda-bld/pytorch_1716905971214/work/c10/cuda/CUDAFunctions.cpp:108.)\n",
      "  return torch._C._cuda_getDeviceCount() if nvml_count < 0 else nvml_count\n"
     ]
    }
   ],
   "source": [
    "import os\n",
    "import torch\n",
    "import numpy as np\n",
    "import cv2\n",
    "import json\n",
    "from argparse import Namespace\n",
    "import tools._init_paths\n",
    "from core.inference import get_final_preds\n",
    "from config import cfg, update_config\n",
    "from models.adaptive_pose_hrnet import get_adaptive_pose_net\n",
    "from utils.transforms import get_affine_transform\n",
    "from utils.vis import save_debug_images\n",
    "from torchvision.transforms import Normalize, ToTensor\n",
    "import pickle\n",
    "\n",
    "np.set_printoptions(precision=2, suppress=True)"
   ]
  },
  {
   "cell_type": "code",
   "execution_count": 26,
   "metadata": {},
   "outputs": [],
   "source": [
    "def GetSyripKP(path: str,id: int):\n",
    "    with open(path,'r') as f:\n",
    "        ann = json.load(f)\n",
    "    if(not isinstance(ann,list)):\n",
    "        ann = ann['annotations']\n",
    "    skp = next(obj for obj in ann if obj['image_id'] == id)['keypoints']\n",
    "    return np.array(skp).reshape((-1,3))\n",
    "def WriteKP(path,id,joints):\n",
    "    print(f'{id}: {joints.shape}')\n",
    "    joints[:,2] = 2.0\n",
    "    with open(f'{path}/{id}_keypoints.json','w') as f:\n",
    "        json.dump({'annotations': joints.flatten().tolist()},f)"
   ]
  },
  {
   "cell_type": "code",
   "execution_count": 19,
   "metadata": {},
   "outputs": [],
   "source": [
    "syrip_ref_path = 'data/syrip/annotations/person_keypoints_validate_infant.json'\n",
    "syrip_output_path = 'output/syrip/adaptive_pose_hrnet/w48_384x288_adam_lr1e-3_infant/results/keypoints_validate_infant_results_0.json'\n",
    "custom_output_path = 'output/custom/adaptive_pose_hrnet/test-infant/results/keypoints_predict_results_0.json'"
   ]
  },
  {
   "cell_type": "code",
   "execution_count": 27,
   "metadata": {},
   "outputs": [
    {
     "name": "stdout",
     "output_type": "stream",
     "text": [
      "1: (19, 3)\n",
      "2: (19, 3)\n",
      "4: (19, 3)\n",
      "5: (19, 3)\n",
      "6: (19, 3)\n",
      "7: (19, 3)\n",
      "10: (19, 3)\n"
     ]
    }
   ],
   "source": [
    "ids = ['1','2','4','5','6','7','10']\n",
    "joints = {}\n",
    "syn_output_path = 'syn_generation/data/keypoints'\n",
    "for id in ids:\n",
    "    joints[id] = GetSyripKP(custom_output_path,id)\n",
    "for id,j in joints.items():\n",
    "    WriteKP(syn_output_path,id,j)"
   ]
  },
  {
   "cell_type": "code",
   "execution_count": 5,
   "metadata": {},
   "outputs": [],
   "source": [
    "# sref_kp = GetSyripKP(syrip_ref_path,10)\n",
    "# sout_kp = GetSyripKP(syrip_output_path,10)\n",
    "# custom_kp = GetSyripKP(custom_output_path,'10')"
   ]
  },
  {
   "cell_type": "code",
   "execution_count": null,
   "metadata": {},
   "outputs": [],
   "source": [
    "# print(sref_kp.shape)\n",
    "# sref_kp"
   ]
  },
  {
   "cell_type": "code",
   "execution_count": null,
   "metadata": {},
   "outputs": [],
   "source": [
    "# print(sout_kp.shape)\n",
    "# sout_kp"
   ]
  },
  {
   "cell_type": "code",
   "execution_count": null,
   "metadata": {},
   "outputs": [],
   "source": [
    "# print(custom_kp.shape)\n",
    "# custom_kp"
   ]
  },
  {
   "cell_type": "code",
   "execution_count": 9,
   "metadata": {},
   "outputs": [],
   "source": [
    "# joints = custom_kp\n",
    "# coco_joints = {\n",
    "#     0: \"nose\",\n",
    "#     1: \"left_eye\",\n",
    "#     2: \"right_eye\",\n",
    "#     3: \"left_ear\",\n",
    "#     4: \"right_ear\",\n",
    "#     5: \"left_shoulder\",\n",
    "#     6: \"right_shoulder\",\n",
    "#     7: \"left_elbow\",\n",
    "#     8: \"right_elbow\",\n",
    "#     9: \"left_wrist\",\n",
    "#     10: \"right_wrist\",\n",
    "#     11: \"left_hip\",\n",
    "#     12: \"right_hip\",\n",
    "#     13: \"left_knee\",\n",
    "#     14: \"right_knee\",\n",
    "#     15: \"left_ankle\",\n",
    "#     16: \"right_ankle\",\n",
    "#     17: \"neck\",  # computed value, not in original coco format\n",
    "#     18: \"mid_hip\" # computed value, not in original coco format\n",
    "# }\n",
    "# op_joints ={\n",
    "#     0:  \"nose\",\n",
    "#     1:  \"neck\",\n",
    "#     2:  \"right_shoulder\",\n",
    "#     3:  \"right_elbow\",\n",
    "#     4:  \"right_wrist\",\n",
    "#     5:  \"left_shoulder\",\n",
    "#     6:  \"left_elbow\",\n",
    "#     7:  \"left_wrist\",\n",
    "#     8:  \"mid_hip\",\n",
    "#     9:  \"right_hip\",\n",
    "#     10: \"right_knee\",\n",
    "#     11: \"right_ankle\",\n",
    "#     12: \"left_hip\",\n",
    "#     13: \"left_knee\",\n",
    "#     14: \"left_ankle\",\n",
    "#     15: \"right_eye\",\n",
    "#     16: \"left_eye\",\n",
    "#     17: \"right_ear\",\n",
    "#     18: \"left_ear\",\n",
    "#     # 19: \"background\" # not used\n",
    "# }\n",
    "\n",
    "# # compute neck and mid_hip\n",
    "# neck = (joints[5] + joints[6]) / 2.0\n",
    "# mid_hip = (joints[11] + joints[12]) / 2.0\n",
    "# joints = np.vstack((joints,neck,mid_hip))\n",
    "\n",
    "# # remap from coco to openpose\n",
    "# coco_to_op_map = []\n",
    "# for op_idx, op_joint in op_joints.items():\n",
    "#     # Find the corresponding COCO index\n",
    "#     coco_idx = next((coco_idx for coco_idx, coco_joint in coco_joints.items() if coco_joint == op_joint), None)\n",
    "#     coco_to_op_map.append(coco_idx)\n",
    "# tmp = np.zeros((19,3))\n",
    "# for op_idx, coco_idx in enumerate(coco_to_op_map):\n",
    "#         if coco_idx is not None:\n",
    "#             tmp[op_idx,:] = joints[coco_idx,:]\n",
    "\n",
    "# joints = tmp"
   ]
  },
  {
   "cell_type": "code",
   "execution_count": 10,
   "metadata": {},
   "outputs": [],
   "source": [
    "# with open('syn_generation/data/keypoints/custom_keypoints.json','w') as f:\n",
    "#     json.dump({'annotations': joints.flatten().tolist()},f)"
   ]
  },
  {
   "cell_type": "code",
   "execution_count": 2,
   "metadata": {},
   "outputs": [],
   "source": [
    "with open('syn_generation/output/results/custom/000.pkl','rb') as f:\n",
    "    data = pickle.load(f,encoding='latin1')"
   ]
  },
  {
   "cell_type": "code",
   "execution_count": 3,
   "metadata": {},
   "outputs": [
    {
     "data": {
      "text/plain": [
       "{'camera_rotation': array([[[1., 0., 0.],\n",
       "         [0., 1., 0.],\n",
       "         [0., 0., 1.]]], dtype=float32),\n",
       " 'camera_translation': array([[-0.05, -0.08,  0.85]], dtype=float32),\n",
       " 'betas': array([[-1.  , -0.34,  0.16, -0.02,  0.  , -0.04,  0.03, -0.09, -0.06,\n",
       "          0.01, -0.01,  0.03, -0.02, -0.  , -0.01, -0.01, -0.01,  0.  ,\n",
       "          0.  ,  0.  ]], dtype=float32),\n",
       " 'global_orient': array([[-1.01,  1.04, -2.35]], dtype=float32),\n",
       " 'body_pose': array([[-1.03,  0.45,  1.21, -1.58, -0.15, -0.31,  0.7 , -0.18, -0.28,\n",
       "          1.21,  0.35, -0.11, -0.06, -0.26,  0.17, -0.11, -0.1 , -0.1 ,\n",
       "          0.2 ,  0.13, -0.3 , -0.04, -0.2 ,  0.2 ,  0.08, -0.11, -0.06,\n",
       "         -0.24, -0.01, -0.07, -0.01,  0.08, -0.63, -0.4 , -0.8 , -0.13,\n",
       "          0.12,  0.23, -0.22, -0.01,  0.1 ,  0.29, -0.26, -0.84,  0.33,\n",
       "          0.32,  0.28, -0.62, -0.09,  0.39,  0.61,  0.29, -0.81, -0.27,\n",
       "          0.28,  0.32,  0.33,  0.06,  0.07, -0.17, -0.01, -0.07, -0.09,\n",
       "         -0.13,  0.05,  0.17,  0.11, -0.07, -0.16]], dtype=float32)}"
      ]
     },
     "execution_count": 3,
     "metadata": {},
     "output_type": "execute_result"
    }
   ],
   "source": [
    "data"
   ]
  },
  {
   "cell_type": "code",
   "execution_count": null,
   "metadata": {},
   "outputs": [],
   "source": []
  }
 ],
 "metadata": {
  "kernelspec": {
   "display_name": "fidip",
   "language": "python",
   "name": "python3"
  },
  "language_info": {
   "codemirror_mode": {
    "name": "ipython",
    "version": 3
   },
   "file_extension": ".py",
   "mimetype": "text/x-python",
   "name": "python",
   "nbconvert_exporter": "python",
   "pygments_lexer": "ipython3",
   "version": "3.12.4"
  }
 },
 "nbformat": 4,
 "nbformat_minor": 2
}
